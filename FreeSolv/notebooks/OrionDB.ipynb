{
 "cells": [
  {
   "cell_type": "code",
   "execution_count": 1,
   "metadata": {
    "collapsed": true
   },
   "outputs": [],
   "source": [
    "import os, glob, json, pickle\n",
    "from openeye import *"
   ]
  },
  {
   "cell_type": "code",
   "execution_count": 2,
   "metadata": {
    "collapsed": false
   },
   "outputs": [
    {
     "data": {
      "text/plain": [
       "0"
      ]
     },
     "execution_count": 2,
     "metadata": {},
     "output_type": "execute_result"
    }
   ],
   "source": [
    "#Extract the mol2_gaff files\n",
    "os.system('tar -xvzf ../mol2files_gaff.tar.gz')\n",
    "#Extract the mol2_sybyl files\n",
    "os.system('tar -xvzf ../mol2files_sybyl.tar.gz')"
   ]
  },
  {
   "cell_type": "code",
   "execution_count": 3,
   "metadata": {
    "collapsed": false
   },
   "outputs": [],
   "source": [
    "#Load in our input files\n",
    "gaff_mol2s = sorted(glob.glob('mol2files_gaff/*.mol2'))\n",
    "sybyl_mol2s = sorted(glob.glob('mol2files_sybyl/*.mol2'))\n",
    "dbfile = open('../database.json')\n",
    "db = json.load(dbfile)"
   ]
  },
  {
   "cell_type": "code",
   "execution_count": 4,
   "metadata": {
    "collapsed": false,
    "scrolled": true
   },
   "outputs": [],
   "source": [
    "def concatTagOEMol(mol2files, outfname):\n",
    "    \n",
    "    ofs = oemolostream()\n",
    "    if not ofs.open(outfname):\n",
    "        OEThrow.Fatal(\"Unable to open %s for writing\" % outfname)\n",
    "    \n",
    "    for mol2 in mol2files:\n",
    "        fname = mol2.split('/')[-1]\n",
    "        freesolvid = fname.split('.mol2')[0]\n",
    "\n",
    "        with oemolistream(mol2) as ifs:\n",
    "            for imol in ifs.GetOEGraphMols():\n",
    "                # Add generic tag\n",
    "                imol.SetData(OEGetTag('FreeSolvID'), freesolvid)\n",
    "                # Attach as SD Data\n",
    "                OESetSDData(imol, 'FreeSolvID', str(freesolvid))\n",
    "                \n",
    "                for k,v in sorted(db[freesolvid].items()):\n",
    "                    # SD Data is read in as a CSV\n",
    "                    # Put nicknames/IUPAC names into a list.\n",
    "                    if 'iupac' == k:\n",
    "                        v = str(  [v.strip()]  )\n",
    "                    elif 'nickname' == k:\n",
    "                        v = str(  [v.strip()]  )\n",
    "                    OESetSDData(imol, k, str(v) )\n",
    "                OEWriteConstMolecule(ofs, imol)        \n",
    "    ofs.close()\n",
    "    \n",
    "    # Check that our database is unchanged\n",
    "    with oemolistream(outfname) as ifs:\n",
    "        for imol in ifs.GetOEGraphMols():\n",
    "            freesolvid = imol.GetData('FreeSolvID')\n",
    "\n",
    "            reconst_data = {}\n",
    "            for dp in OEGetSDDataPairs(imol):\n",
    "                reconst_data[dp.GetTag()] = dp.GetValue()\n",
    "            #print(reconst_data)\n",
    "        \n",
    "            # Check str matches since SD data are strs\n",
    "            for k,v in db[freesolvid].items():\n",
    "                if  k in ['iupac', 'nickname', 'FreeSolvID']:\n",
    "                    pass\n",
    "                else:\n",
    "                    assert(reconst_data[k] == str(v))"
   ]
  },
  {
   "cell_type": "code",
   "execution_count": 5,
   "metadata": {
    "collapsed": false
   },
   "outputs": [],
   "source": [
    "concatTagOEMol(gaff_mol2s, 'freesolv_gaff.oeb.gz')\n",
    "concatTagOEMol(sybyl_mol2s, 'freesolv_sybyl.oeb.gz')"
   ]
  },
  {
   "cell_type": "code",
   "execution_count": null,
   "metadata": {
    "collapsed": true
   },
   "outputs": [],
   "source": []
  }
 ],
 "metadata": {
  "anaconda-cloud": {},
  "kernelspec": {
   "display_name": "Python [conda env:icebox]",
   "language": "python",
   "name": "conda-env-icebox-py"
  },
  "language_info": {
   "codemirror_mode": {
    "name": "ipython",
    "version": 3
   },
   "file_extension": ".py",
   "mimetype": "text/x-python",
   "name": "python",
   "nbconvert_exporter": "python",
   "pygments_lexer": "ipython3",
   "version": "3.5.2"
  }
 },
 "nbformat": 4,
 "nbformat_minor": 1
}
