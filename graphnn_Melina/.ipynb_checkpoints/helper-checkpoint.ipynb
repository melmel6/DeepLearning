{
 "cells": [
  {
   "cell_type": "code",
   "execution_count": 6,
   "metadata": {},
   "outputs": [
    {
     "ename": "ModuleNotFoundError",
     "evalue": "No module named 'context'",
     "output_type": "error",
     "traceback": [
      "\u001b[0;31m---------------------------------------------------------------------------\u001b[0m",
      "\u001b[0;31mModuleNotFoundError\u001b[0m                       Traceback (most recent call last)",
      "Cell \u001b[0;32mIn [6], line 14\u001b[0m\n\u001b[1;32m     10\u001b[0m \u001b[38;5;28;01mimport\u001b[39;00m \u001b[38;5;21;01mase\u001b[39;00m\u001b[38;5;21;01m.\u001b[39;00m\u001b[38;5;21;01mdb\u001b[39;00m\n\u001b[1;32m     12\u001b[0m \u001b[38;5;28;01mfrom\u001b[39;00m \u001b[38;5;21;01masap3\u001b[39;00m \u001b[38;5;28;01mimport\u001b[39;00m EMT  \u001b[38;5;66;03m# Way too slow with ase.EMT !\u001b[39;00m\n\u001b[0;32m---> 14\u001b[0m \u001b[38;5;28;01mfrom\u001b[39;00m \u001b[38;5;21;01mcontext\u001b[39;00m \u001b[38;5;28;01mimport\u001b[39;00m graphnn\n\u001b[1;32m     15\u001b[0m \u001b[38;5;28;01mfrom\u001b[39;00m \u001b[38;5;21;01mgraphnn\u001b[39;00m\u001b[38;5;21;01m.\u001b[39;00m\u001b[38;5;21;01mcalculator\u001b[39;00m \u001b[38;5;28;01mimport\u001b[39;00m MLCalculator\n\u001b[1;32m     16\u001b[0m \u001b[38;5;28;01mfrom\u001b[39;00m \u001b[38;5;21;01mgraphnn\u001b[39;00m\u001b[38;5;21;01m.\u001b[39;00m\u001b[38;5;21;01mmodel_forces\u001b[39;00m \u001b[38;5;28;01mimport\u001b[39;00m SchnetModelForces\n",
      "\u001b[0;31mModuleNotFoundError\u001b[0m: No module named 'context'"
     ]
    }
   ],
   "source": [
    "import json\n",
    "\n",
    "import sys\n",
    "import torch\n",
    "\n",
    "from ase.lattice.cubic import FaceCenteredCubic\n",
    "from ase.md.langevin import Langevin\n",
    "from ase.io.trajectory import Trajectory\n",
    "from ase import units\n",
    "import ase.db\n",
    "\n",
    "from asap3 import EMT  # Way too slow with ase.EMT !\n",
    "\n",
    "from context import graphnn\n",
    "from graphnn.calculator import MLCalculator\n",
    "from graphnn.model_forces import SchnetModelForces"
   ]
  },
  {
   "cell_type": "code",
   "execution_count": 5,
   "metadata": {},
   "outputs": [
    {
     "name": "stdout",
     "output_type": "stream",
     "text": [
      "Requirement already satisfied: asap3 in ./venv/lib/python3.10/site-packages (3.12.12)\r\n"
     ]
    }
   ],
   "source": [
    "!pip3 install asap3"
   ]
  },
  {
   "cell_type": "code",
   "execution_count": 5,
   "metadata": {},
   "outputs": [
    {
     "name": "stdout",
     "output_type": "stream",
     "text": [
      "120496\n",
      "13389\n"
     ]
    }
   ],
   "source": [
    "f = open('../runs/model_output/datasplits.json')\n",
    "data = json.load(f)\n",
    "\n",
    "print(len(data['train']))\n",
    "print(len(data['validation']))\n",
    "\n"
   ]
  },
  {
   "cell_type": "code",
   "execution_count": null,
   "metadata": {},
   "outputs": [],
   "source": [
    "# Load molecule from dataset\n",
    "with ase.db.connect(\"../data/md17aspirin.db\") as db:\n",
    "    row = next(db.select(1))\n",
    "    atoms = row.toatoms()\n",
    "    atoms.center(vacuum=2)"
   ]
  }
 ],
 "metadata": {
  "kernelspec": {
   "display_name": "Python 3 (ipykernel)",
   "language": "python",
   "name": "python3"
  },
  "language_info": {
   "codemirror_mode": {
    "name": "ipython",
    "version": 3
   },
   "file_extension": ".py",
   "mimetype": "text/x-python",
   "name": "python",
   "nbconvert_exporter": "python",
   "pygments_lexer": "ipython3",
   "version": "3.10.8"
  },
  "vscode": {
   "interpreter": {
    "hash": "b0fa6594d8f4cbf19f97940f81e996739fb7646882a419484c72d19e05852a7e"
   }
  }
 },
 "nbformat": 4,
 "nbformat_minor": 2
}
